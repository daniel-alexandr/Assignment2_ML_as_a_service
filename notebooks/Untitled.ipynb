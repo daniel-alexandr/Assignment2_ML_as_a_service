{
 "cells": [
  {
   "cell_type": "code",
   "execution_count": 1,
   "id": "ca98830c-ad5f-4064-8ab9-d7c2cc9f1556",
   "metadata": {},
   "outputs": [
    {
     "name": "stdout",
     "output_type": "stream",
     "text": [
      "total 8\n",
      "drwxr-xr-x   5 danielalexander  staff  160 19 Sep 18:07 \u001b[34m.\u001b[m\u001b[m\n",
      "drwxr-xr-x  22 danielalexander  staff  704 15 Sep 00:36 \u001b[34m..\u001b[m\u001b[m\n",
      "-rw-r--r--   1 danielalexander  staff    0 14 Sep 23:20 .gitkeep\n",
      "drwxr-xr-x   3 danielalexander  staff   96 19 Sep 18:05 \u001b[34m.ipynb_checkpoints\u001b[m\u001b[m\n",
      "-rw-r--r--   1 danielalexander  staff  616 19 Sep 18:07 Untitled.ipynb\n"
     ]
    }
   ],
   "source": []
  }
 ],
 "metadata": {
  "kernelspec": {
   "display_name": "Python 3 (ipykernel)",
   "language": "python",
   "name": "python3"
  },
  "language_info": {
   "codemirror_mode": {
    "name": "ipython",
    "version": 3
   },
   "file_extension": ".py",
   "mimetype": "text/x-python",
   "name": "python",
   "nbconvert_exporter": "python",
   "pygments_lexer": "ipython3",
   "version": "3.8.9"
  }
 },
 "nbformat": 4,
 "nbformat_minor": 5
}
